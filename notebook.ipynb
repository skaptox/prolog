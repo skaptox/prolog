{
 "cells": [
  {
   "cell_type": "code",
   "execution_count": 1,
   "id": "b2cc5a79-6608-4c02-b272-ee631f3ebb08",
   "metadata": {},
   "outputs": [],
   "source": [
    "from pyswip import Prolog\n"
   ]
  },
  {
   "cell_type": "code",
   "execution_count": 2,
   "id": "ae6da058-2f1c-4ed9-97b1-02b4936c2d67",
   "metadata": {},
   "outputs": [],
   "source": [
    "prolog = Prolog()\n",
    "prolog.consult(\"prolog.pl\")"
   ]
  },
  {
   "cell_type": "code",
   "execution_count": 6,
   "id": "fbd94db1-4cb9-4957-84c8-0f3cdaa6e13b",
   "metadata": {},
   "outputs": [
    {
     "data": {
      "text/plain": [
       "[{}]"
      ]
     },
     "execution_count": 6,
     "metadata": {},
     "output_type": "execute_result"
    }
   ],
   "source": [
    "list(prolog.query(\"aprobar_linea_credito(juan, 2, 10)\"))"
   ]
  },
  {
   "cell_type": "code",
   "execution_count": null,
   "id": "3c00d9f5-df89-46e2-9913-ee9b0c50151c",
   "metadata": {},
   "outputs": [],
   "source": []
  }
 ],
 "metadata": {
  "kernelspec": {
   "display_name": "Python 3",
   "language": "python",
   "name": "python3"
  },
  "language_info": {
   "codemirror_mode": {
    "name": "ipython",
    "version": 3
   },
   "file_extension": ".py",
   "mimetype": "text/x-python",
   "name": "python",
   "nbconvert_exporter": "python",
   "pygments_lexer": "ipython3",
   "version": "3.8.10"
  }
 },
 "nbformat": 4,
 "nbformat_minor": 5
}
